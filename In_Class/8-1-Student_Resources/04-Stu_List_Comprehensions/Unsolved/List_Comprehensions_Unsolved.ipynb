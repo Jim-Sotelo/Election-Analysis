{
 "cells": [
  {
   "cell_type": "markdown",
   "metadata": {},
   "source": [
    "### Remember the modulo operator (%) !\n",
    "`x % y` gives the remainder if `x` is divided by `y`. So, for instance `x % 2` will be `0` when x is even, and `1` when x is odd"
   ]
  },
  {
   "cell_type": "code",
   "execution_count": 2,
   "metadata": {},
   "outputs": [
    {
     "ename": "SyntaxError",
     "evalue": "invalid syntax (3846507012.py, line 3)",
     "output_type": "error",
     "traceback": [
      "\u001b[1;36m  File \u001b[1;32m\"C:\\Users\\gskil\\AppData\\Local\\Temp\\ipykernel_2144\\3846507012.py\"\u001b[1;36m, line \u001b[1;32m3\u001b[0m\n\u001b[1;33m    for each_num in range(100) if each_num%3==0\u001b[0m\n\u001b[1;37m                                               ^\u001b[0m\n\u001b[1;31mSyntaxError\u001b[0m\u001b[1;31m:\u001b[0m invalid syntax\n"
     ]
    }
   ],
   "source": [
    "# Make a list of numbers up to 100 that are divisible by three.\n",
    "\n",
    "[each_num for each_num in range(100) if each_num%3==0"
   ]
  },
  {
   "cell_type": "code",
   "execution_count": 2,
   "metadata": {},
   "outputs": [],
   "source": [
    "# Make a list of numbers up to 100 that are divisible by three OR divisible by five\n",
    "\n",
    "new_list=[]\n",
    "for each_total in totals:\n",
    "    new_list.append(each_total.replace('$', ''))\n",
    "    new_total=float(new_total)\n",
    "    new_list.append(new_total)\n",
    "    "
   ]
  },
  {
   "cell_type": "code",
   "execution_count": 3,
   "metadata": {},
   "outputs": [],
   "source": [
    "# Use conditional list comprehensions to create a list of all the pet dog names.\n",
    "\n",
    "\n",
    "\n",
    "\n",
    "pets = [{\n",
    "    'name': 'Fido',\n",
    "    'age': 4,\n",
    "    'type': 'dog'\n",
    "}, {\n",
    "    'name': 'Rex',\n",
    "    'age': 2,\n",
    "    'type': 'dog'\n",
    "}, {\n",
    "    'name': 'Puddles',\n",
    "    'age': 7,\n",
    "    'type': 'wombat'\n",
    "}, {\n",
    "    'name': 'Tuna',\n",
    "    'age': 6,\n",
    "    'type': 'cat'\n",
    "}, {\n",
    "    'name': 'Springer',\n",
    "    'age': 5,\n",
    "    'type': 'dog'\n",
    "}]\n",
    "\n"
   ]
  },
  {
   "cell_type": "code",
   "execution_count": 3,
   "metadata": {},
   "outputs": [
    {
     "ename": "NameError",
     "evalue": "name 'pets' is not defined",
     "output_type": "error",
     "traceback": [
      "\u001b[1;31m---------------------------------------------------------------------------\u001b[0m",
      "\u001b[1;31mNameError\u001b[0m                                 Traceback (most recent call last)",
      "\u001b[1;32m~\\AppData\\Local\\Temp\\ipykernel_2144\\20869420.py\u001b[0m in \u001b[0;36m<module>\u001b[1;34m\u001b[0m\n\u001b[1;32m----> 1\u001b[1;33m \u001b[1;33m[\u001b[0m\u001b[0meach_pet\u001b[0m\u001b[1;33m[\u001b[0m\u001b[1;34m'name'\u001b[0m\u001b[1;33m]\u001b[0m \u001b[1;32mfor\u001b[0m \u001b[0meach_pet\u001b[0m \u001b[1;32min\u001b[0m \u001b[0mpets\u001b[0m \u001b[1;32mif\u001b[0m \u001b[0meach_pet\u001b[0m\u001b[1;33m[\u001b[0m\u001b[1;34m'type'\u001b[0m\u001b[1;33m]\u001b[0m\u001b[1;33m==\u001b[0m\u001b[1;34m'dog'\u001b[0m\u001b[1;33m]\u001b[0m\u001b[1;33m\u001b[0m\u001b[1;33m\u001b[0m\u001b[0m\n\u001b[0m",
      "\u001b[1;31mNameError\u001b[0m: name 'pets' is not defined"
     ]
    }
   ],
   "source": [
    "[each_pet['name'] for each_pet in pets if each_pet['type']=='dog']"
   ]
  },
  {
   "cell_type": "code",
   "execution_count": 4,
   "metadata": {},
   "outputs": [],
   "source": [
    "# Use a list comprehension to create a list containing three items; a \"customer_id\", \n",
    "# \"name\", and \"email\" for each customer in the customers list.  \n",
    "customers = [\"400021,Adrianna Raysor,adrianna.raysor@360.cn\",\n",
    "\"400064,Amberly Kerfie,a.kerfie@instagram.com\",\n",
    "\"400042,Angelique Kleiner,a.klein@google.com\",\n",
    "\"400059,Arleen Bergman,arleen.bergman@friendfeed.com\",\n",
    "\"400006,Arlinda McBrayer,amcbrayer@scribd.com\",\n",
    "\"400014,Astrid Brewster,a.brewster@homestead.com\",\n",
    "\"400027,Ayanna Filippelli,ayanna@reddit.com\"]\n",
    "\n"
   ]
  },
  {
   "cell_type": "code",
   "execution_count": 5,
   "metadata": {},
   "outputs": [],
   "source": [
    "# Use a list comprehension to extract the \"customer_id\" from each customer in the customers list \n",
    "# and then convert the \"customer_id\" to an integer.\n"
   ]
  },
  {
   "cell_type": "code",
   "execution_count": 6,
   "metadata": {},
   "outputs": [],
   "source": [
    "# Use a list comprehension to split each customer \"name\" into a first and last name. \n"
   ]
  },
  {
   "cell_type": "code",
   "execution_count": null,
   "metadata": {},
   "outputs": [],
   "source": []
  }
 ],
 "metadata": {
  "kernelspec": {
   "display_name": "Python 3 (ipykernel)",
   "language": "python",
   "name": "python3"
  },
  "language_info": {
   "codemirror_mode": {
    "name": "ipython",
    "version": 3
   },
   "file_extension": ".py",
   "mimetype": "text/x-python",
   "name": "python",
   "nbconvert_exporter": "python",
   "pygments_lexer": "ipython3",
   "version": "3.7.15"
  }
 },
 "nbformat": 4,
 "nbformat_minor": 2
}
